{
 "cells": [
  {
   "cell_type": "markdown",
   "metadata": {},
   "source": [
    "## Nilearn\n",
    "Topics covered:\n",
    "* Visualization \n",
    "* Loading and masking data\n",
    "* Downloading a test dataset\n",
    "* some rsfMRI resources\n",
    "* ICA"
   ]
  },
  {
   "cell_type": "code",
   "execution_count": null,
   "metadata": {
    "collapsed": true
   },
   "outputs": [],
   "source": [
    "import os\n",
    "from glob import glob\n",
    "import pandas\n",
    "import nibabel as ni\n",
    "import matplotlib.pyplot as plt\n",
    "import seaborn as sns"
   ]
  },
  {
   "cell_type": "code",
   "execution_count": null,
   "metadata": {
    "collapsed": false
   },
   "outputs": [],
   "source": [
    "# load some data\n",
    "\n",
    "wdir = os.path.join(os.getcwd(),'stuff')\n",
    "mni = os.path.join(wdir,'MNI152_T1_1mm_brain.nii')\n",
    "mask = os.path.join(wdir,'ADNI_GM_mask_1mm_nocereb.nii.gz')\n",
    "roi = os.path.join(wdir,'inf_temp.nii.gz')"
   ]
  },
  {
   "cell_type": "markdown",
   "metadata": {},
   "source": [
    "#### Plotting"
   ]
  },
  {
   "cell_type": "markdown",
   "metadata": {},
   "source": [
    "One of the most frequent uses I make of nilearn is its visualization capabilities. It's great at quick plotting of neuroimages"
   ]
  },
  {
   "cell_type": "code",
   "execution_count": null,
   "metadata": {
    "collapsed": false,
    "scrolled": true
   },
   "outputs": [],
   "source": [
    "from nilearn import plotting\n",
    "img = ni.load(mni)\n",
    "\n",
    "plt.close()\n",
    "plotting.plot_img(img)\n",
    "plt.show()"
   ]
  },
  {
   "cell_type": "code",
   "execution_count": null,
   "metadata": {
    "collapsed": false
   },
   "outputs": [],
   "source": [
    "plt.close()\n",
    "plotting.plot_roi(ni.load(roi),img)\n",
    "plt.show()"
   ]
  },
  {
   "cell_type": "markdown",
   "metadata": {},
   "source": [
    "It's also excellent for quickly loading and masking neuroimaging data and preparing them for analysis"
   ]
  },
  {
   "cell_type": "markdown",
   "metadata": {},
   "source": [
    "#### Loading and masking"
   ]
  },
  {
   "cell_type": "code",
   "execution_count": null,
   "metadata": {
    "collapsed": false
   },
   "outputs": [],
   "source": [
    "# here's a bunch of scans\n",
    "# NOTE: These are on my computer, but try with some images on yours!\n",
    "jdir = '/Users/jakevogel/Science/tau/tmp/tmp_in/'\n",
    "scans = glob(os.path.join(jdir,'*.ni*')) \n",
    "scans"
   ]
  },
  {
   "cell_type": "code",
   "execution_count": null,
   "metadata": {
    "collapsed": true
   },
   "outputs": [],
   "source": [
    "# we can load them into a single 4D volume very easily with nilearn\n",
    "from nilearn import image\n",
    "image_4d = image.load_img(scans)"
   ]
  },
  {
   "cell_type": "code",
   "execution_count": null,
   "metadata": {
    "collapsed": false
   },
   "outputs": [],
   "source": [
    "image_4d.shape"
   ]
  },
  {
   "cell_type": "code",
   "execution_count": null,
   "metadata": {
    "collapsed": true
   },
   "outputs": [],
   "source": [
    "# in order to use the data, we can easily convert it to a 4D numpy array\n",
    "dat = image_4d.get_data()"
   ]
  },
  {
   "cell_type": "code",
   "execution_count": null,
   "metadata": {
    "collapsed": false
   },
   "outputs": [],
   "source": [
    "# These images are 1mm3, which means there are 7~ million voxels\n",
    "len(dat[:,:,:,0].flat)"
   ]
  },
  {
   "cell_type": "code",
   "execution_count": null,
   "metadata": {
    "collapsed": false
   },
   "outputs": [],
   "source": [
    "# We don't care about most of these. \n",
    "# So what if we mask the image do only get voxels we care about\n",
    "img1 = ni.load(scans[1])\n",
    "mask_img = ni.load(mask)\n",
    "plt.close()\n",
    "plotting.plot_roi(mask_img,img1)\n",
    "plt.show()"
   ]
  },
  {
   "cell_type": "code",
   "execution_count": null,
   "metadata": {
    "collapsed": false
   },
   "outputs": [],
   "source": [
    "# nilearn makes this very easy\n",
    "mask_obj = input_data.NiftiMasker(mask_img) # create a mask object from our mask image\n",
    "masked_data = mask_obj.fit_transform(image_4d)"
   ]
  },
  {
   "cell_type": "code",
   "execution_count": null,
   "metadata": {
    "collapsed": false
   },
   "outputs": [],
   "source": [
    "# Now, the data has been masked (only about 700k voxels now), but it has also been \n",
    "# transformed into a subject x feature (voxel) array\n",
    "masked_data.shape"
   ]
  },
  {
   "cell_type": "markdown",
   "metadata": {},
   "source": [
    "#### loading play datasets"
   ]
  },
  {
   "cell_type": "code",
   "execution_count": null,
   "metadata": {
    "collapsed": false
   },
   "outputs": [],
   "source": [
    "# Nilearn comes with a fairly large sets of structural and fmri data for you to play and \n",
    "# experiment with. Here, I will download a single 4D fmri volume from their adhd dataset\n",
    "from nilearn import datasets\n",
    "dataset = datasets.fetch_adhd(n_subjects=1) # download dataset\n"
   ]
  },
  {
   "cell_type": "code",
   "execution_count": null,
   "metadata": {
    "collapsed": false
   },
   "outputs": [],
   "source": [
    "# lots of information is available about the datasets\n",
    "dataset.description"
   ]
  },
  {
   "cell_type": "code",
   "execution_count": null,
   "metadata": {
    "collapsed": false
   },
   "outputs": [],
   "source": [
    "# for example, here are the confound data for this subject's functional scan\n",
    "pandas.read_csv(dataset.confounds[0],sep='\\t').head()"
   ]
  },
  {
   "cell_type": "code",
   "execution_count": null,
   "metadata": {
    "collapsed": false
   },
   "outputs": [],
   "source": [
    "# load the image\n",
    "fmri = image.load_img(dataset.func)\n",
    "fmri.shape"
   ]
  },
  {
   "cell_type": "markdown",
   "metadata": {},
   "source": [
    "#### extracting and viewing timeseries"
   ]
  },
  {
   "cell_type": "code",
   "execution_count": null,
   "metadata": {
    "collapsed": true
   },
   "outputs": [],
   "source": [
    "# define some coordinates in the DMN\n",
    "dmn_coords = [(0, -52, 18), (-46, -68, 32), (46, -68, 32), (1, 50, -5)]\n",
    "labels = [\n",
    "          'Posterior Cingulate Cortex',\n",
    "          'Left Temporoparietal junction',\n",
    "          'Right Temporoparietal junction',\n",
    "          'Medial prefrontal cortex',\n",
    "         ]"
   ]
  },
  {
   "cell_type": "code",
   "execution_count": null,
   "metadata": {
    "collapsed": false
   },
   "outputs": [],
   "source": [
    "# draw spheres around the coordinates and use this as a mask\n",
    "masker = input_data.NiftiSpheresMasker(\n",
    "    dmn_coords, radius=8,\n",
    "    detrend=True, standardize=True,\n",
    "    low_pass=0.1, high_pass=0.01, t_r=2.5,\n",
    "    memory='nilearn_cache', memory_level=1, verbose=2)"
   ]
  },
  {
   "cell_type": "code",
   "execution_count": null,
   "metadata": {
    "collapsed": false
   },
   "outputs": [],
   "source": [
    "# extract timeseries from these coordinates, adjusting for confounds\n",
    "time_series = masker.fit_transform(dataset.func[0],\n",
    "                                   confounds=dataset.confounds[0])"
   ]
  },
  {
   "cell_type": "code",
   "execution_count": null,
   "metadata": {
    "collapsed": false
   },
   "outputs": [],
   "source": [
    "# view the time-series\n",
    "plt.close()\n",
    "for time_serie, label in zip(time_series.T, labels):\n",
    "    plt.plot(time_serie, label=label)\n",
    "\n",
    "plt.title('Default Mode Network Time Series')\n",
    "plt.xlabel('Frame #')\n",
    "plt.ylabel('Normalized signal')\n",
    "plt.legend()\n",
    "plt.tight_layout()\n",
    "plt.show()"
   ]
  },
  {
   "cell_type": "markdown",
   "metadata": {},
   "source": [
    "#### plotting connectomics"
   ]
  },
  {
   "cell_type": "code",
   "execution_count": null,
   "metadata": {
    "collapsed": false
   },
   "outputs": [],
   "source": [
    "# We can also use nilearn to calculate and plot connectomes\n",
    "from nilearn.connectome import ConnectivityMeasure\n",
    "connectivity_measure = ConnectivityMeasure(kind='partial correlation')\n",
    "partial_correlation_matrix = connectivity_measure.fit_transform(\n",
    "    [time_series])[0]"
   ]
  },
  {
   "cell_type": "code",
   "execution_count": null,
   "metadata": {
    "collapsed": false
   },
   "outputs": [],
   "source": [
    "plt.close()\n",
    "sns.heatmap(partial_correlation_matrix)\n",
    "plt.show()"
   ]
  },
  {
   "cell_type": "code",
   "execution_count": null,
   "metadata": {
    "collapsed": false
   },
   "outputs": [],
   "source": [
    "plt.close()\n",
    "plotting.plot_connectome(partial_correlation_matrix, \n",
    "                         dmn_coords,title=\"Default Mode Network Connectivity\")\n",
    "plt.show()"
   ]
  },
  {
   "cell_type": "markdown",
   "metadata": {},
   "source": [
    "#### Maybe a little ICA?"
   ]
  },
  {
   "cell_type": "code",
   "execution_count": null,
   "metadata": {
    "collapsed": false
   },
   "outputs": [],
   "source": [
    "# this could take awhile\n",
    "from nilearn.decomposition import CanICA\n",
    "ica_obj = CanICA(n_components=20, random_state=123)\n",
    "ica = ica_obj.fit(fmri)"
   ]
  },
  {
   "cell_type": "code",
   "execution_count": null,
   "metadata": {
    "collapsed": false
   },
   "outputs": [],
   "source": [
    "# convert the resulting components to an image format, for easy viewing and interpretation\n",
    "components_img = ica.masker_.inverse_transform(ica.components_)\n",
    "\n",
    "# then plot\n",
    "plt.close()\n",
    "plotting.plot_prob_atlas(components_img)\n",
    "plt.show()"
   ]
  },
  {
   "cell_type": "code",
   "execution_count": null,
   "metadata": {
    "collapsed": false
   },
   "outputs": [],
   "source": [
    "plt.close()\n",
    "from nilearn.image import iter_img\n",
    "for i, cur_img in enumerate(iter_img(components_img)):\n",
    "    plotting.plot_stat_map(cur_img, display_mode='z', title='IC %d'%i, \n",
    "                           cut_coords=1, colorbar=False)\n",
    "plt.show()"
   ]
  },
  {
   "cell_type": "markdown",
   "metadata": {
    "collapsed": true
   },
   "source": [
    "Nilearn has fantastic documentation. I encourage you to browse through their examples: http://nilearn.github.io/auto_examples/index.html"
   ]
  },
  {
   "cell_type": "markdown",
   "metadata": {},
   "source": [
    "If you have any further questions or think I can be of help, my brainhack slack handle is jvogel"
   ]
  },
  {
   "cell_type": "code",
   "execution_count": null,
   "metadata": {
    "collapsed": true
   },
   "outputs": [],
   "source": []
  }
 ],
 "metadata": {
  "anaconda-cloud": {},
  "kernelspec": {
   "display_name": "Python [conda env:py3]",
   "language": "python",
   "name": "conda-env-py3-py"
  },
  "language_info": {
   "codemirror_mode": {
    "name": "ipython",
    "version": 3
   },
   "file_extension": ".py",
   "mimetype": "text/x-python",
   "name": "python",
   "nbconvert_exporter": "python",
   "pygments_lexer": "ipython3",
   "version": "3.5.2"
  }
 },
 "nbformat": 4,
 "nbformat_minor": 2
}
